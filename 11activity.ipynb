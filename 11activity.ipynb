{
 "cells": [
  {
   "cell_type": "code",
   "execution_count": 3,
   "id": "7b1d3367",
   "metadata": {},
   "outputs": [],
   "source": [
    "import pandas as pd\n",
    "import numpy as np\n",
    "import matplotlib.pyplot as plt\n",
    "import seaborn as sns"
   ]
  },
  {
   "cell_type": "markdown",
   "id": "c580e4d8",
   "metadata": {},
   "source": [
    "### Reading the dataset"
   ]
  },
  {
   "cell_type": "code",
   "execution_count": 4,
   "id": "8dde650c",
   "metadata": {},
   "outputs": [],
   "source": [
    "students=pd.read_csv(r\"student-data.csv\")"
   ]
  },
  {
   "cell_type": "code",
   "execution_count": 5,
   "id": "e7d207e4",
   "metadata": {},
   "outputs": [
    {
     "data": {
      "text/html": [
       "<div>\n",
       "<style scoped>\n",
       "    .dataframe tbody tr th:only-of-type {\n",
       "        vertical-align: middle;\n",
       "    }\n",
       "\n",
       "    .dataframe tbody tr th {\n",
       "        vertical-align: top;\n",
       "    }\n",
       "\n",
       "    .dataframe thead th {\n",
       "        text-align: right;\n",
       "    }\n",
       "</style>\n",
       "<table border=\"1\" class=\"dataframe\">\n",
       "  <thead>\n",
       "    <tr style=\"text-align: right;\">\n",
       "      <th></th>\n",
       "      <th>school</th>\n",
       "      <th>sex</th>\n",
       "      <th>age</th>\n",
       "      <th>address</th>\n",
       "      <th>famsize</th>\n",
       "      <th>Pstatus</th>\n",
       "      <th>Medu</th>\n",
       "      <th>Fedu</th>\n",
       "      <th>Mjob</th>\n",
       "      <th>Fjob</th>\n",
       "      <th>...</th>\n",
       "      <th>internet</th>\n",
       "      <th>romantic</th>\n",
       "      <th>famrel</th>\n",
       "      <th>freetime</th>\n",
       "      <th>goout</th>\n",
       "      <th>Dalc</th>\n",
       "      <th>Walc</th>\n",
       "      <th>health</th>\n",
       "      <th>absences</th>\n",
       "      <th>passed</th>\n",
       "    </tr>\n",
       "  </thead>\n",
       "  <tbody>\n",
       "    <tr>\n",
       "      <th>0</th>\n",
       "      <td>GP</td>\n",
       "      <td>F</td>\n",
       "      <td>18</td>\n",
       "      <td>U</td>\n",
       "      <td>GT3</td>\n",
       "      <td>A</td>\n",
       "      <td>4</td>\n",
       "      <td>4</td>\n",
       "      <td>at_home</td>\n",
       "      <td>teacher</td>\n",
       "      <td>...</td>\n",
       "      <td>no</td>\n",
       "      <td>no</td>\n",
       "      <td>4</td>\n",
       "      <td>3</td>\n",
       "      <td>4</td>\n",
       "      <td>1</td>\n",
       "      <td>1</td>\n",
       "      <td>3</td>\n",
       "      <td>6</td>\n",
       "      <td>no</td>\n",
       "    </tr>\n",
       "    <tr>\n",
       "      <th>1</th>\n",
       "      <td>GP</td>\n",
       "      <td>F</td>\n",
       "      <td>17</td>\n",
       "      <td>U</td>\n",
       "      <td>GT3</td>\n",
       "      <td>T</td>\n",
       "      <td>1</td>\n",
       "      <td>1</td>\n",
       "      <td>at_home</td>\n",
       "      <td>other</td>\n",
       "      <td>...</td>\n",
       "      <td>yes</td>\n",
       "      <td>no</td>\n",
       "      <td>5</td>\n",
       "      <td>3</td>\n",
       "      <td>3</td>\n",
       "      <td>1</td>\n",
       "      <td>1</td>\n",
       "      <td>3</td>\n",
       "      <td>4</td>\n",
       "      <td>no</td>\n",
       "    </tr>\n",
       "    <tr>\n",
       "      <th>2</th>\n",
       "      <td>GP</td>\n",
       "      <td>F</td>\n",
       "      <td>15</td>\n",
       "      <td>U</td>\n",
       "      <td>LE3</td>\n",
       "      <td>T</td>\n",
       "      <td>1</td>\n",
       "      <td>1</td>\n",
       "      <td>at_home</td>\n",
       "      <td>other</td>\n",
       "      <td>...</td>\n",
       "      <td>yes</td>\n",
       "      <td>no</td>\n",
       "      <td>4</td>\n",
       "      <td>3</td>\n",
       "      <td>2</td>\n",
       "      <td>2</td>\n",
       "      <td>3</td>\n",
       "      <td>3</td>\n",
       "      <td>10</td>\n",
       "      <td>yes</td>\n",
       "    </tr>\n",
       "    <tr>\n",
       "      <th>3</th>\n",
       "      <td>GP</td>\n",
       "      <td>F</td>\n",
       "      <td>15</td>\n",
       "      <td>U</td>\n",
       "      <td>GT3</td>\n",
       "      <td>T</td>\n",
       "      <td>4</td>\n",
       "      <td>2</td>\n",
       "      <td>health</td>\n",
       "      <td>services</td>\n",
       "      <td>...</td>\n",
       "      <td>yes</td>\n",
       "      <td>yes</td>\n",
       "      <td>3</td>\n",
       "      <td>2</td>\n",
       "      <td>2</td>\n",
       "      <td>1</td>\n",
       "      <td>1</td>\n",
       "      <td>5</td>\n",
       "      <td>2</td>\n",
       "      <td>yes</td>\n",
       "    </tr>\n",
       "    <tr>\n",
       "      <th>4</th>\n",
       "      <td>GP</td>\n",
       "      <td>F</td>\n",
       "      <td>16</td>\n",
       "      <td>U</td>\n",
       "      <td>GT3</td>\n",
       "      <td>T</td>\n",
       "      <td>3</td>\n",
       "      <td>3</td>\n",
       "      <td>other</td>\n",
       "      <td>other</td>\n",
       "      <td>...</td>\n",
       "      <td>no</td>\n",
       "      <td>no</td>\n",
       "      <td>4</td>\n",
       "      <td>3</td>\n",
       "      <td>2</td>\n",
       "      <td>1</td>\n",
       "      <td>2</td>\n",
       "      <td>5</td>\n",
       "      <td>4</td>\n",
       "      <td>yes</td>\n",
       "    </tr>\n",
       "  </tbody>\n",
       "</table>\n",
       "<p>5 rows × 31 columns</p>\n",
       "</div>"
      ],
      "text/plain": [
       "  school sex  age address famsize Pstatus  Medu  Fedu     Mjob      Fjob  ...  \\\n",
       "0     GP   F   18       U     GT3       A     4     4  at_home   teacher  ...   \n",
       "1     GP   F   17       U     GT3       T     1     1  at_home     other  ...   \n",
       "2     GP   F   15       U     LE3       T     1     1  at_home     other  ...   \n",
       "3     GP   F   15       U     GT3       T     4     2   health  services  ...   \n",
       "4     GP   F   16       U     GT3       T     3     3    other     other  ...   \n",
       "\n",
       "  internet romantic  famrel  freetime  goout Dalc Walc health absences passed  \n",
       "0       no       no       4         3      4    1    1      3        6     no  \n",
       "1      yes       no       5         3      3    1    1      3        4     no  \n",
       "2      yes       no       4         3      2    2    3      3       10    yes  \n",
       "3      yes      yes       3         2      2    1    1      5        2    yes  \n",
       "4       no       no       4         3      2    1    2      5        4    yes  \n",
       "\n",
       "[5 rows x 31 columns]"
      ]
     },
     "execution_count": 5,
     "metadata": {},
     "output_type": "execute_result"
    }
   ],
   "source": [
    "students.head()"
   ]
  },
  {
   "cell_type": "code",
   "execution_count": 6,
   "id": "21f0cd05",
   "metadata": {
    "scrolled": false
   },
   "outputs": [
    {
     "data": {
      "text/plain": [
       "Index(['school', 'sex', 'age', 'address', 'famsize', 'Pstatus', 'Medu', 'Fedu',\n",
       "       'Mjob', 'Fjob', 'reason', 'guardian', 'traveltime', 'studytime',\n",
       "       'failures', 'schoolsup', 'famsup', 'paid', 'activities', 'nursery',\n",
       "       'higher', 'internet', 'romantic', 'famrel', 'freetime', 'goout', 'Dalc',\n",
       "       'Walc', 'health', 'absences', 'passed'],\n",
       "      dtype='object')"
      ]
     },
     "execution_count": 6,
     "metadata": {},
     "output_type": "execute_result"
    }
   ],
   "source": [
    "students.columns"
   ]
  },
  {
   "cell_type": "code",
   "execution_count": 7,
   "id": "35dc64d3",
   "metadata": {
    "scrolled": true
   },
   "outputs": [
    {
     "name": "stdout",
     "output_type": "stream",
     "text": [
      "<class 'pandas.core.frame.DataFrame'>\n",
      "RangeIndex: 395 entries, 0 to 394\n",
      "Data columns (total 31 columns):\n",
      " #   Column      Non-Null Count  Dtype \n",
      "---  ------      --------------  ----- \n",
      " 0   school      395 non-null    object\n",
      " 1   sex         395 non-null    object\n",
      " 2   age         395 non-null    int64 \n",
      " 3   address     395 non-null    object\n",
      " 4   famsize     395 non-null    object\n",
      " 5   Pstatus     395 non-null    object\n",
      " 6   Medu        395 non-null    int64 \n",
      " 7   Fedu        395 non-null    int64 \n",
      " 8   Mjob        395 non-null    object\n",
      " 9   Fjob        395 non-null    object\n",
      " 10  reason      395 non-null    object\n",
      " 11  guardian    395 non-null    object\n",
      " 12  traveltime  395 non-null    int64 \n",
      " 13  studytime   395 non-null    int64 \n",
      " 14  failures    395 non-null    int64 \n",
      " 15  schoolsup   395 non-null    object\n",
      " 16  famsup      395 non-null    object\n",
      " 17  paid        395 non-null    object\n",
      " 18  activities  395 non-null    object\n",
      " 19  nursery     395 non-null    object\n",
      " 20  higher      395 non-null    object\n",
      " 21  internet    395 non-null    object\n",
      " 22  romantic    395 non-null    object\n",
      " 23  famrel      395 non-null    int64 \n",
      " 24  freetime    395 non-null    int64 \n",
      " 25  goout       395 non-null    int64 \n",
      " 26  Dalc        395 non-null    int64 \n",
      " 27  Walc        395 non-null    int64 \n",
      " 28  health      395 non-null    int64 \n",
      " 29  absences    395 non-null    int64 \n",
      " 30  passed      395 non-null    object\n",
      "dtypes: int64(13), object(18)\n",
      "memory usage: 95.8+ KB\n"
     ]
    }
   ],
   "source": [
    "students.info()"
   ]
  },
  {
   "cell_type": "code",
   "execution_count": 15,
   "id": "97682531",
   "metadata": {
    "scrolled": true
   },
   "outputs": [
    {
     "data": {
      "text/plain": [
       "(395, 31)"
      ]
     },
     "execution_count": 15,
     "metadata": {},
     "output_type": "execute_result"
    }
   ],
   "source": [
    "students.shape"
   ]
  },
  {
   "cell_type": "code",
   "execution_count": 18,
   "id": "b8cedf32",
   "metadata": {
    "scrolled": true
   },
   "outputs": [
    {
     "data": {
      "text/plain": [
       "school        object\n",
       "sex           object\n",
       "age            int64\n",
       "address       object\n",
       "famsize       object\n",
       "Pstatus       object\n",
       "Medu           int64\n",
       "Fedu           int64\n",
       "Mjob          object\n",
       "Fjob          object\n",
       "reason        object\n",
       "guardian      object\n",
       "traveltime     int64\n",
       "studytime      int64\n",
       "failures       int64\n",
       "schoolsup     object\n",
       "famsup        object\n",
       "paid          object\n",
       "activities    object\n",
       "nursery       object\n",
       "higher        object\n",
       "internet      object\n",
       "romantic      object\n",
       "famrel         int64\n",
       "freetime       int64\n",
       "goout          int64\n",
       "Dalc           int64\n",
       "Walc           int64\n",
       "health         int64\n",
       "absences       int64\n",
       "passed        object\n",
       "dtype: object"
      ]
     },
     "execution_count": 18,
     "metadata": {},
     "output_type": "execute_result"
    }
   ],
   "source": [
    "students.dtypes"
   ]
  },
  {
   "cell_type": "code",
   "execution_count": 35,
   "id": "b350d2fa",
   "metadata": {
    "scrolled": true
   },
   "outputs": [
    {
     "data": {
      "image/png": "[encoded data removed]",
      "text/plain": [
       "<Figure size 1440x1080 with 16 Axes>"
      ]
     },
     "metadata": {
      "needs_background": "light"
     },
     "output_type": "display_data"
    }
   ],
   "source": [
    "graph=students.select_dtypes(include=[\"int64\"])\n",
    "graph.hist(figsize=(20,15))\n",
    "plt.show()"
   ]
  },
  {
   "cell_type": "code",
   "execution_count": 38,
   "id": "1fee693f",
   "metadata": {
    "scrolled": true
   },
   "outputs": [
    {
     "data": {
      "image/png": "[encoded data removed]",
      "text/plain": [
       "<Figure size 1080x720 with 1 Axes>"
      ]
     },
     "metadata": {
      "needs_background": "light"
     },
     "output_type": "display_data"
    }
   ],
   "source": [
    "students.boxplot(figsize=(15,10))\n",
    "plt.show()"
   ]
  },
  {
   "cell_type": "code",
   "execution_count": 41,
   "id": "4fba83c4",
   "metadata": {},
   "outputs": [
    {
     "data": {
      "text/plain": [
       "Index(['school', 'sex', 'age', 'address', 'famsize', 'Pstatus', 'Medu', 'Fedu',\n",
       "       'Mjob', 'Fjob', 'reason', 'guardian', 'traveltime', 'studytime',\n",
       "       'failures', 'schoolsup', 'famsup', 'paid', 'activities', 'nursery',\n",
       "       'higher', 'internet', 'romantic', 'famrel', 'freetime', 'goout', 'Dalc',\n",
       "       'Walc', 'health', 'absences', 'passed', 'Paredu'],\n",
       "      dtype='object')"
      ]
     },
     "execution_count": 41,
     "metadata": {},
     "output_type": "execute_result"
    }
   ],
   "source": [
    "students.columns"
   ]
  },
  {
   "cell_type": "code",
   "execution_count": 39,
   "id": "44a13b5a",
   "metadata": {
    "scrolled": true
   },
   "outputs": [
    {
     "name": "stdout",
     "output_type": "stream",
     "text": [
      "4     96\n",
      "3    100\n",
      "2    115\n",
      "1     82\n",
      "0      2\n",
      "Name: Fedu, dtype: int64\n",
      "4    131\n",
      "3     99\n",
      "2    103\n",
      "1     59\n",
      "0      3\n",
      "Name: Medu, dtype: int64\n"
     ]
    }
   ],
   "source": [
    "print(students['Fedu'].value_counts().sort_index(ascending=False))\n",
    "print(students['Medu'].value_counts().sort_index(ascending=False))"
   ]
  },
  {
   "cell_type": "code",
   "execution_count": 40,
   "id": "51008f88",
   "metadata": {},
   "outputs": [
    {
     "name": "stdout",
     "output_type": "stream",
     "text": [
      "8    70\n",
      "7    58\n",
      "6    64\n",
      "5    47\n",
      "4    72\n",
      "3    43\n",
      "2    39\n",
      "1     2\n",
      "Name: Paredu, dtype: int64\n"
     ]
    }
   ],
   "source": [
    "students['Paredu'] = students['Fedu'] + students ['Medu']\n",
    "print(students['Paredu'].value_counts().sort_index(ascending=False))\n",
    "\n"
   ]
  },
  {
   "cell_type": "code",
   "execution_count": 37,
   "id": "b3c958d0",
   "metadata": {},
   "outputs": [
    {
     "data": {
      "text/plain": [
       "school        0\n",
       "sex           0\n",
       "age           0\n",
       "address       0\n",
       "famsize       0\n",
       "Pstatus       0\n",
       "Medu          0\n",
       "Fedu          0\n",
       "Mjob          0\n",
       "Fjob          0\n",
       "reason        0\n",
       "guardian      0\n",
       "traveltime    0\n",
       "studytime     0\n",
       "failures      0\n",
       "schoolsup     0\n",
       "famsup        0\n",
       "paid          0\n",
       "activities    0\n",
       "nursery       0\n",
       "higher        0\n",
       "internet      0\n",
       "romantic      0\n",
       "famrel        0\n",
       "freetime      0\n",
       "goout         0\n",
       "Dalc          0\n",
       "Walc          0\n",
       "health        0\n",
       "absences      0\n",
       "passed        0\n",
       "dtype: int64"
      ]
     },
     "execution_count": 37,
     "metadata": {},
     "output_type": "execute_result"
    }
   ],
   "source": [
    "students.isna().sum()"
   ]
  },
  {
   "cell_type": "code",
   "execution_count": 42,
   "id": "33699709",
   "metadata": {},
   "outputs": [],
   "source": [
    "students.drop(['Fedu','Medu'],axis=1,inplace=True)"
   ]
  },
  {
   "cell_type": "code",
   "execution_count": 43,
   "id": "dd44ed7d",
   "metadata": {},
   "outputs": [
    {
     "name": "stdout",
     "output_type": "stream",
     "text": [
      "5      9\n",
      "4      9\n",
      "3     26\n",
      "2     75\n",
      "1    276\n",
      "Name: Dalc, dtype: int64\n",
      "5     28\n",
      "4     51\n",
      "3     80\n",
      "2     85\n",
      "1    151\n",
      "Name: Walc, dtype: int64\n"
     ]
    }
   ],
   "source": [
    "print(students['Dalc'].value_counts().sort_index(ascending=False))\n",
    "print(students['Walc'].value_counts().sort_index(ascending=False))"
   ]
  },
  {
   "cell_type": "code",
   "execution_count": 44,
   "id": "85c2b9f6",
   "metadata": {},
   "outputs": [],
   "source": [
    "#Adding the columns\n",
    "students['Alcohol'] = students['Walc'] + students['Dalc']"
   ]
  },
  {
   "cell_type": "code",
   "execution_count": 45,
   "id": "e8fa12ae",
   "metadata": {},
   "outputs": [],
   "source": [
    "students.drop(['Walc','Dalc'],axis=1,inplace=True)"
   ]
  },
  {
   "cell_type": "code",
   "execution_count": 46,
   "id": "5fdb6c8f",
   "metadata": {},
   "outputs": [
    {
     "name": "stdout",
     "output_type": "stream",
     "text": [
      "yes    242\n",
      "no     153\n",
      "Name: famsup, dtype: int64\n",
      "no     344\n",
      "yes     51\n",
      "Name: schoolsup, dtype: int64\n"
     ]
    }
   ],
   "source": [
    "print(students['famsup'].value_counts())\n",
    "print(students['schoolsup'].value_counts())"
   ]
  },
  {
   "cell_type": "code",
   "execution_count": 47,
   "id": "89091c1b",
   "metadata": {},
   "outputs": [],
   "source": [
    "#Converting yes to 1 and no to 0\n",
    "students['famsup'] = students['famsup'].map({'yes': 1, 'no': 0})\n",
    "students['schoolsup'] = students['schoolsup'].map({'yes': 1, 'no': 0})"
   ]
  },
  {
   "cell_type": "code",
   "execution_count": 48,
   "id": "982d8e42",
   "metadata": {},
   "outputs": [],
   "source": [
    "#Adding the columns\n",
    "students['support'] = students['famsup'] + students['schoolsup']"
   ]
  },
  {
   "cell_type": "code",
   "execution_count": 49,
   "id": "ff9df9e4",
   "metadata": {},
   "outputs": [],
   "source": [
    "students.drop(['famsup','schoolsup'],axis=1,inplace=True)"
   ]
  },
  {
   "cell_type": "code",
   "execution_count": 50,
   "id": "f948f157",
   "metadata": {},
   "outputs": [
    {
     "name": "stdout",
     "output_type": "stream",
     "text": [
      "1    217\n",
      "0    140\n",
      "2     38\n",
      "Name: support, dtype: int64\n"
     ]
    }
   ],
   "source": [
    "print(students['support'].value_counts())"
   ]
  },
  {
   "cell_type": "code",
   "execution_count": 51,
   "id": "e27d9d97",
   "metadata": {},
   "outputs": [],
   "source": [
    "#Mappign values of Fjob,\n",
    "students['Fjob'] = students['Fjob'].map({'at_home': 0, 'health': 1,'other':1,'services':1,'teacher':1})"
   ]
  },
  {
   "cell_type": "code",
   "execution_count": 52,
   "id": "3cd390fb",
   "metadata": {},
   "outputs": [],
   "source": [
    "#Mapping the values of Mjob,\n",
    "students['Mjob'] = students['Mjob'].map({'at_home': 0, 'health': 1,'other':1,'services':1,'teacher':1})"
   ]
  },
  {
   "cell_type": "code",
   "execution_count": 53,
   "id": "fdfa9a02",
   "metadata": {},
   "outputs": [],
   "source": [
    "#Now we can create a new column called parent's job\n",
    "students['Parjob'] = students['Mjob'] + students['Fjob']"
   ]
  },
  {
   "cell_type": "code",
   "execution_count": 54,
   "id": "0a6aa17a",
   "metadata": {},
   "outputs": [],
   "source": [
    "#Now we can drop the Mjob and Fjob\n",
    "students.drop(['Mjob','Fjob'],axis=1,inplace=True)"
   ]
  },
  {
   "cell_type": "markdown",
   "id": "7ffd5780",
   "metadata": {},
   "source": [
    "### Feature Selections"
   ]
  },
  {
   "cell_type": "code",
   "execution_count": 55,
   "id": "3b9c2ec1",
   "metadata": {},
   "outputs": [],
   "source": [
    "# we can convert our categorical values to numericals"
   ]
  },
  {
   "cell_type": "code",
   "execution_count": 56,
   "id": "91cf3a5a",
   "metadata": {},
   "outputs": [],
   "source": [
    "#Applying dummy encoding\n",
    "students = pd.get_dummies(students,drop_first=True)"
   ]
  },
  {
   "cell_type": "code",
   "execution_count": 57,
   "id": "6e9072b0",
   "metadata": {},
   "outputs": [],
   "source": [
    "X = students.drop(['passed_yes'],axis=1)\n",
    "y = students.passed_yes"
   ]
  },
  {
   "cell_type": "code",
   "execution_count": 58,
   "id": "33d1be4f",
   "metadata": {},
   "outputs": [],
   "source": [
    "# we can split our data to train and test to avoid overfitting"
   ]
  },
  {
   "cell_type": "code",
   "execution_count": 59,
   "id": "03dd1b48",
   "metadata": {},
   "outputs": [],
   "source": [
    "from sklearn.model_selection import train_test_split\n",
    "X_train,X_test,y_train,y_test = train_test_split(X,y,test_size=0.2,random_state=34)"
   ]
  },
  {
   "cell_type": "code",
   "execution_count": 60,
   "id": "3a7b622b",
   "metadata": {},
   "outputs": [
    {
     "data": {
      "text/plain": [
       "(array([6.52986680e-01, 1.80300684e-01, 2.76792565e-01, 5.57247926e+01,\n",
       "        1.62556742e-01, 5.91320047e-02, 5.32138988e+00, 7.26429426e-01,\n",
       "        4.92348430e+01, 4.74677205e+00, 3.32915531e-01, 2.16685063e+00,\n",
       "        6.87667369e-02, 1.66928721e-01, 1.10815694e+00, 9.85153109e-02,\n",
       "        2.55257029e-02, 1.63419078e-01, 8.84987079e-06, 1.13888579e+00,\n",
       "        1.31861180e+00, 3.18441789e-01, 2.55580897e-01, 1.67791732e+00,\n",
       "        8.05376573e-02, 1.68647914e-01, 4.96393324e-01, 3.03664047e-01,\n",
       "        2.51715999e+00]),\n",
       " array([4.19046883e-01, 6.71114964e-01, 5.98811231e-01, 8.33603306e-14,\n",
       "        6.86813413e-01, 8.07873139e-01, 2.10652029e-02, 3.94043005e-01,\n",
       "        2.27081178e-12, 2.93533074e-02, 5.63947340e-01, 1.41014766e-01,\n",
       "        7.93140945e-01, 6.82855900e-01, 2.92482939e-01, 7.53618646e-01,\n",
       "        8.73064106e-01, 6.86027966e-01, 9.97626398e-01, 2.85887889e-01,\n",
       "        2.50841341e-01, 5.72545581e-01, 6.13172524e-01, 1.95201422e-01,\n",
       "        7.76570112e-01, 6.81316255e-01, 4.81089166e-01, 5.81594458e-01,\n",
       "        1.12613236e-01]))"
      ]
     },
     "execution_count": 60,
     "metadata": {},
     "output_type": "execute_result"
    }
   ],
   "source": [
    "from sklearn.feature_selection import chi2\n",
    "f_p_values = chi2(X_train,y_train)\n",
    "f_p_values"
   ]
  },
  {
   "cell_type": "code",
   "execution_count": 61,
   "id": "7e2b94e4",
   "metadata": {},
   "outputs": [
    {
     "data": {
      "text/plain": [
       "failures             55.724793\n",
       "absences             49.234843\n",
       "goout                 5.321390\n",
       "Paredu                4.746772\n",
       "romantic_yes          2.517160\n",
       "support               2.166851\n",
       "paid_yes              1.677917\n",
       "reason_reputation     1.318612\n",
       "reason_other          1.138886\n",
       "sex_M                 1.108157\n",
       "health                0.726429\n",
       "age                   0.652987\n",
       "higher_yes            0.496393\n",
       "Alcohol               0.332916\n",
       "guardian_mother       0.318442\n",
       "internet_yes          0.303664\n",
       "studytime             0.276793\n",
       "guardian_other        0.255581\n",
       "traveltime            0.180301\n",
       "nursery_yes           0.168648\n",
       "school_MS             0.166929\n",
       "Pstatus_T             0.163419\n",
       "famrel                0.162557\n",
       "address_U             0.098515\n",
       "activities_yes        0.080538\n",
       "Parjob                0.068767\n",
       "freetime              0.059132\n",
       "famsize_LE3           0.025526\n",
       "reason_home           0.000009\n",
       "dtype: float64"
      ]
     },
     "execution_count": 61,
     "metadata": {},
     "output_type": "execute_result"
    }
   ],
   "source": [
    "f_values = pd.Series(f_p_values[0])\n",
    "f_values.index = X_train.columns\n",
    "f_values.sort_values(ascending=False)"
   ]
  },
  {
   "cell_type": "code",
   "execution_count": 62,
   "id": "6d5dd3a4",
   "metadata": {},
   "outputs": [
    {
     "data": {
      "text/plain": [
       "failures             8.336033e-14\n",
       "absences             2.270812e-12\n",
       "goout                2.106520e-02\n",
       "Paredu               2.935331e-02\n",
       "romantic_yes         1.126132e-01\n",
       "support              1.410148e-01\n",
       "paid_yes             1.952014e-01\n",
       "reason_reputation    2.508413e-01\n",
       "reason_other         2.858879e-01\n",
       "sex_M                2.924829e-01\n",
       "health               3.940430e-01\n",
       "age                  4.190469e-01\n",
       "higher_yes           4.810892e-01\n",
       "Alcohol              5.639473e-01\n",
       "guardian_mother      5.725456e-01\n",
       "internet_yes         5.815945e-01\n",
       "studytime            5.988112e-01\n",
       "guardian_other       6.131725e-01\n",
       "traveltime           6.711150e-01\n",
       "nursery_yes          6.813163e-01\n",
       "school_MS            6.828559e-01\n",
       "Pstatus_T            6.860280e-01\n",
       "famrel               6.868134e-01\n",
       "address_U            7.536186e-01\n",
       "activities_yes       7.765701e-01\n",
       "Parjob               7.931409e-01\n",
       "freetime             8.078731e-01\n",
       "famsize_LE3          8.730641e-01\n",
       "reason_home          9.976264e-01\n",
       "dtype: float64"
      ]
     },
     "execution_count": 62,
     "metadata": {},
     "output_type": "execute_result"
    }
   ],
   "source": [
    "p_values = pd.Series(f_p_values[1])\n",
    "p_values.index = X_train.columns\n",
    "p_values.sort_values(ascending=True)"
   ]
  },
  {
   "cell_type": "code",
   "execution_count": 63,
   "id": "cfd78706",
   "metadata": {},
   "outputs": [],
   "source": [
    "# we can drop some of the columns"
   ]
  },
  {
   "cell_type": "code",
   "execution_count": 64,
   "id": "e95fe7e2",
   "metadata": {},
   "outputs": [],
   "source": [
    "X.drop(['famsize_LE3','freetime','Parjob','activities_yes','address_U'],axis=1,inplace=True)"
   ]
  },
  {
   "cell_type": "markdown",
   "id": "87bef981",
   "metadata": {},
   "source": [
    "### Building the Models"
   ]
  },
  {
   "cell_type": "code",
   "execution_count": 65,
   "id": "6cc61841",
   "metadata": {},
   "outputs": [],
   "source": [
    "X_train,X_test,y_train,y_test = train_test_split(X,y,test_size=0.2,random_state=34)"
   ]
  },
  {
   "cell_type": "code",
   "execution_count": 66,
   "id": "0606e8a6",
   "metadata": {},
   "outputs": [],
   "source": [
    "from sklearn.neighbors import KNeighborsClassifier\n",
    "from sklearn.metrics import accuracy_score\n",
    "\n",
    "accuracy = []\n",
    "neighbors = np.arange(3,15)\n",
    "for k in neighbors:\n",
    "    classifier = KNeighborsClassifier(n_neighbors=k, metric='minkowski')\n",
    "    classifier.fit(X_train,y_train)\n",
    "    y_predicted = classifier.predict(X_test)\n",
    "    acc = accuracy_score(y_predicted,y_test)\n",
    "    accuracy.append(acc)\n",
    "    "
   ]
  },
  {
   "cell_type": "code",
   "execution_count": 67,
   "id": "0e33b864",
   "metadata": {},
   "outputs": [
    {
     "data": {
      "text/plain": [
       "[0.7215189873417721,\n",
       " 0.6708860759493671,\n",
       " 0.7088607594936709,\n",
       " 0.7088607594936709,\n",
       " 0.7341772151898734,\n",
       " 0.7088607594936709,\n",
       " 0.7468354430379747,\n",
       " 0.7215189873417721,\n",
       " 0.7468354430379747,\n",
       " 0.7341772151898734,\n",
       " 0.7088607594936709,\n",
       " 0.7468354430379747]"
      ]
     },
     "execution_count": 67,
     "metadata": {},
     "output_type": "execute_result"
    }
   ],
   "source": [
    "accuracy"
   ]
  },
  {
   "cell_type": "code",
   "execution_count": 68,
   "id": "8d574cc8",
   "metadata": {
    "scrolled": true
   },
   "outputs": [
    {
     "data": {
      "text/plain": [
       "<AxesSubplot:>"
      ]
     },
     "execution_count": 68,
     "metadata": {},
     "output_type": "execute_result"
    },
    {
     "data": {
      "image/png": "[encoded data removed]",
      "text/plain": [
       "<Figure size 432x288 with 1 Axes>"
      ]
     },
     "metadata": {
      "needs_background": "light"
     },
     "output_type": "display_data"
    }
   ],
   "source": [
    "sns.lineplot(x=neighbors,y=accuracy,)"
   ]
  },
  {
   "cell_type": "code",
   "execution_count": 73,
   "id": "6f2e43a5",
   "metadata": {},
   "outputs": [],
   "source": [
    "classifier = KNeighborsClassifier(n_neighbors=11, metric='minkowski')\n",
    "classifier.fit(X_train,y_train)\n",
    "y_predicted= classifier.predict(X_test)"
   ]
  },
  {
   "cell_type": "code",
   "execution_count": 85,
   "id": "675c1247",
   "metadata": {},
   "outputs": [],
   "source": [
    "from sklearn.metrics import confusion_matrix,f1_score"
   ]
  },
  {
   "cell_type": "code",
   "execution_count": 86,
   "id": "63001cc7",
   "metadata": {},
   "outputs": [
    {
     "name": "stdout",
     "output_type": "stream",
     "text": [
      "accuracy score is  0.7468354430379747\n",
      "f1 score is 0.8333333333333333\n"
     ]
    }
   ],
   "source": [
    "print(\"accuracy score is \",accuracy_score(y_predicted,y_test))\n",
    "cm = confusion_matrix(y_predicted,y_test)\n",
    "print(\"f1 score is\",f1_score(y_predicted,y_test))"
   ]
  },
  {
   "cell_type": "code",
   "execution_count": 87,
   "id": "b359488f",
   "metadata": {},
   "outputs": [
    {
     "data": {
      "text/plain": [
       "<AxesSubplot:>"
      ]
     },
     "execution_count": 87,
     "metadata": {},
     "output_type": "execute_result"
    },
    {
     "data": {
      "image/png": "[encoded data removed]",
      "text/plain": [
       "<Figure size 432x288 with 2 Axes>"
      ]
     },
     "metadata": {
      "needs_background": "light"
     },
     "output_type": "display_data"
    }
   ],
   "source": [
    "sns.heatmap(cm,annot=True,cmap=\"YlGnBu\")"
   ]
  },
  {
   "cell_type": "code",
   "execution_count": null,
   "id": "13e9affa",
   "metadata": {},
   "outputs": [],
   "source": []
  }
 ],
 "metadata": {
  "kernelspec": {
   "display_name": "Python 3 (ipykernel)",
   "language": "python",
   "name": "python3"
  },
  "language_info": {
   "codemirror_mode": {
    "name": "ipython",
    "version": 3
   },
   "file_extension": ".py",
   "mimetype": "text/x-python",
   "name": "python",
   "nbconvert_exporter": "python",
   "pygments_lexer": "ipython3",
   "version": "3.9.12"
  }
 },
 "nbformat": 4,
 "nbformat_minor": 5
}
